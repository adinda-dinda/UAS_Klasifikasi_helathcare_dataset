{
  "nbformat": 4,
  "nbformat_minor": 0,
  "metadata": {
    "colab": {
      "provenance": []
    },
    "kernelspec": {
      "name": "python3",
      "display_name": "Python 3"
    },
    "language_info": {
      "name": "python"
    }
  },
  "cells": [
    {
      "cell_type": "code",
      "source": [
        "import numpy as np\n",
        "import pandas as pd\n",
        "import matplotlib.pyplot as plt\n",
        "\n",
        "data = pd.read_csv(\"/content/healthcare_dataset.csv\")\n",
        "data.head(5)"
      ],
      "metadata": {
        "colab": {
          "base_uri": "https://localhost:8080/",
          "height": 347
        },
        "id": "C2IA98JVuXsZ",
        "outputId": "18e3eae8-ed95-4fdf-9b15-37418d2ee91a"
      },
      "execution_count": null,
      "outputs": [
        {
          "output_type": "execute_result",
          "data": {
            "text/plain": [
              "            Name  Age  Gender Blood Type Medical Condition Date of Admission  \\\n",
              "0  Bobby JacksOn   30    Male         B-            Cancer         1/31/2024   \n",
              "1   LesLie TErRy   62    Male         A+           Obesity         8/20/2019   \n",
              "2    DaNnY sMitH   76  Female         A-           Obesity         9/22/2022   \n",
              "3   andrEw waTtS   28  Female         O+          Diabetes        11/18/2020   \n",
              "4  adrIENNE bEll   43  Female        AB+            Cancer         9/19/2022   \n",
              "\n",
              "             Doctor                    Hospital Insurance Provider  \\\n",
              "0     Matthew Smith             Sons and Miller         Blue Cross   \n",
              "1   Samantha Davies                     Kim Inc           Medicare   \n",
              "2  Tiffany Mitchell                    Cook PLC              Aetna   \n",
              "3       Kevin Wells  Hernandez Rogers and Vang,           Medicare   \n",
              "4    Kathleen Hanna                 White-White              Aetna   \n",
              "\n",
              "   Billing Amount  Room Number Admission Type Discharge Date   Medication  \\\n",
              "0     18856.28131          328         Urgent       2/2/2024  Paracetamol   \n",
              "1     33643.32729          265      Emergency      8/26/2019    Ibuprofen   \n",
              "2     27955.09608          205      Emergency      10/7/2022      Aspirin   \n",
              "3     37909.78241          450       Elective     12/18/2020    Ibuprofen   \n",
              "4     14238.31781          458         Urgent      10/9/2022   Penicillin   \n",
              "\n",
              "   Test Results  \n",
              "0        Normal  \n",
              "1  Inconclusive  \n",
              "2        Normal  \n",
              "3      Abnormal  \n",
              "4      Abnormal  "
            ],
            "text/html": [
              "\n",
              "  <div id=\"df-99a0e6c0-b110-451a-87ba-fada7abc5b97\" class=\"colab-df-container\">\n",
              "    <div>\n",
              "<style scoped>\n",
              "    .dataframe tbody tr th:only-of-type {\n",
              "        vertical-align: middle;\n",
              "    }\n",
              "\n",
              "    .dataframe tbody tr th {\n",
              "        vertical-align: top;\n",
              "    }\n",
              "\n",
              "    .dataframe thead th {\n",
              "        text-align: right;\n",
              "    }\n",
              "</style>\n",
              "<table border=\"1\" class=\"dataframe\">\n",
              "  <thead>\n",
              "    <tr style=\"text-align: right;\">\n",
              "      <th></th>\n",
              "      <th>Name</th>\n",
              "      <th>Age</th>\n",
              "      <th>Gender</th>\n",
              "      <th>Blood Type</th>\n",
              "      <th>Medical Condition</th>\n",
              "      <th>Date of Admission</th>\n",
              "      <th>Doctor</th>\n",
              "      <th>Hospital</th>\n",
              "      <th>Insurance Provider</th>\n",
              "      <th>Billing Amount</th>\n",
              "      <th>Room Number</th>\n",
              "      <th>Admission Type</th>\n",
              "      <th>Discharge Date</th>\n",
              "      <th>Medication</th>\n",
              "      <th>Test Results</th>\n",
              "    </tr>\n",
              "  </thead>\n",
              "  <tbody>\n",
              "    <tr>\n",
              "      <th>0</th>\n",
              "      <td>Bobby JacksOn</td>\n",
              "      <td>30</td>\n",
              "      <td>Male</td>\n",
              "      <td>B-</td>\n",
              "      <td>Cancer</td>\n",
              "      <td>1/31/2024</td>\n",
              "      <td>Matthew Smith</td>\n",
              "      <td>Sons and Miller</td>\n",
              "      <td>Blue Cross</td>\n",
              "      <td>18856.28131</td>\n",
              "      <td>328</td>\n",
              "      <td>Urgent</td>\n",
              "      <td>2/2/2024</td>\n",
              "      <td>Paracetamol</td>\n",
              "      <td>Normal</td>\n",
              "    </tr>\n",
              "    <tr>\n",
              "      <th>1</th>\n",
              "      <td>LesLie TErRy</td>\n",
              "      <td>62</td>\n",
              "      <td>Male</td>\n",
              "      <td>A+</td>\n",
              "      <td>Obesity</td>\n",
              "      <td>8/20/2019</td>\n",
              "      <td>Samantha Davies</td>\n",
              "      <td>Kim Inc</td>\n",
              "      <td>Medicare</td>\n",
              "      <td>33643.32729</td>\n",
              "      <td>265</td>\n",
              "      <td>Emergency</td>\n",
              "      <td>8/26/2019</td>\n",
              "      <td>Ibuprofen</td>\n",
              "      <td>Inconclusive</td>\n",
              "    </tr>\n",
              "    <tr>\n",
              "      <th>2</th>\n",
              "      <td>DaNnY sMitH</td>\n",
              "      <td>76</td>\n",
              "      <td>Female</td>\n",
              "      <td>A-</td>\n",
              "      <td>Obesity</td>\n",
              "      <td>9/22/2022</td>\n",
              "      <td>Tiffany Mitchell</td>\n",
              "      <td>Cook PLC</td>\n",
              "      <td>Aetna</td>\n",
              "      <td>27955.09608</td>\n",
              "      <td>205</td>\n",
              "      <td>Emergency</td>\n",
              "      <td>10/7/2022</td>\n",
              "      <td>Aspirin</td>\n",
              "      <td>Normal</td>\n",
              "    </tr>\n",
              "    <tr>\n",
              "      <th>3</th>\n",
              "      <td>andrEw waTtS</td>\n",
              "      <td>28</td>\n",
              "      <td>Female</td>\n",
              "      <td>O+</td>\n",
              "      <td>Diabetes</td>\n",
              "      <td>11/18/2020</td>\n",
              "      <td>Kevin Wells</td>\n",
              "      <td>Hernandez Rogers and Vang,</td>\n",
              "      <td>Medicare</td>\n",
              "      <td>37909.78241</td>\n",
              "      <td>450</td>\n",
              "      <td>Elective</td>\n",
              "      <td>12/18/2020</td>\n",
              "      <td>Ibuprofen</td>\n",
              "      <td>Abnormal</td>\n",
              "    </tr>\n",
              "    <tr>\n",
              "      <th>4</th>\n",
              "      <td>adrIENNE bEll</td>\n",
              "      <td>43</td>\n",
              "      <td>Female</td>\n",
              "      <td>AB+</td>\n",
              "      <td>Cancer</td>\n",
              "      <td>9/19/2022</td>\n",
              "      <td>Kathleen Hanna</td>\n",
              "      <td>White-White</td>\n",
              "      <td>Aetna</td>\n",
              "      <td>14238.31781</td>\n",
              "      <td>458</td>\n",
              "      <td>Urgent</td>\n",
              "      <td>10/9/2022</td>\n",
              "      <td>Penicillin</td>\n",
              "      <td>Abnormal</td>\n",
              "    </tr>\n",
              "  </tbody>\n",
              "</table>\n",
              "</div>\n",
              "    <div class=\"colab-df-buttons\">\n",
              "\n",
              "  <div class=\"colab-df-container\">\n",
              "    <button class=\"colab-df-convert\" onclick=\"convertToInteractive('df-99a0e6c0-b110-451a-87ba-fada7abc5b97')\"\n",
              "            title=\"Convert this dataframe to an interactive table.\"\n",
              "            style=\"display:none;\">\n",
              "\n",
              "  <svg xmlns=\"http://www.w3.org/2000/svg\" height=\"24px\" viewBox=\"0 -960 960 960\">\n",
              "    <path d=\"M120-120v-720h720v720H120Zm60-500h600v-160H180v160Zm220 220h160v-160H400v160Zm0 220h160v-160H400v160ZM180-400h160v-160H180v160Zm440 0h160v-160H620v160ZM180-180h160v-160H180v160Zm440 0h160v-160H620v160Z\"/>\n",
              "  </svg>\n",
              "    </button>\n",
              "\n",
              "  <style>\n",
              "    .colab-df-container {\n",
              "      display:flex;\n",
              "      gap: 12px;\n",
              "    }\n",
              "\n",
              "    .colab-df-convert {\n",
              "      background-color: #E8F0FE;\n",
              "      border: none;\n",
              "      border-radius: 50%;\n",
              "      cursor: pointer;\n",
              "      display: none;\n",
              "      fill: #1967D2;\n",
              "      height: 32px;\n",
              "      padding: 0 0 0 0;\n",
              "      width: 32px;\n",
              "    }\n",
              "\n",
              "    .colab-df-convert:hover {\n",
              "      background-color: #E2EBFA;\n",
              "      box-shadow: 0px 1px 2px rgba(60, 64, 67, 0.3), 0px 1px 3px 1px rgba(60, 64, 67, 0.15);\n",
              "      fill: #174EA6;\n",
              "    }\n",
              "\n",
              "    .colab-df-buttons div {\n",
              "      margin-bottom: 4px;\n",
              "    }\n",
              "\n",
              "    [theme=dark] .colab-df-convert {\n",
              "      background-color: #3B4455;\n",
              "      fill: #D2E3FC;\n",
              "    }\n",
              "\n",
              "    [theme=dark] .colab-df-convert:hover {\n",
              "      background-color: #434B5C;\n",
              "      box-shadow: 0px 1px 3px 1px rgba(0, 0, 0, 0.15);\n",
              "      filter: drop-shadow(0px 1px 2px rgba(0, 0, 0, 0.3));\n",
              "      fill: #FFFFFF;\n",
              "    }\n",
              "  </style>\n",
              "\n",
              "    <script>\n",
              "      const buttonEl =\n",
              "        document.querySelector('#df-99a0e6c0-b110-451a-87ba-fada7abc5b97 button.colab-df-convert');\n",
              "      buttonEl.style.display =\n",
              "        google.colab.kernel.accessAllowed ? 'block' : 'none';\n",
              "\n",
              "      async function convertToInteractive(key) {\n",
              "        const element = document.querySelector('#df-99a0e6c0-b110-451a-87ba-fada7abc5b97');\n",
              "        const dataTable =\n",
              "          await google.colab.kernel.invokeFunction('convertToInteractive',\n",
              "                                                    [key], {});\n",
              "        if (!dataTable) return;\n",
              "\n",
              "        const docLinkHtml = 'Like what you see? Visit the ' +\n",
              "          '<a target=\"_blank\" href=https://colab.research.google.com/notebooks/data_table.ipynb>data table notebook</a>'\n",
              "          + ' to learn more about interactive tables.';\n",
              "        element.innerHTML = '';\n",
              "        dataTable['output_type'] = 'display_data';\n",
              "        await google.colab.output.renderOutput(dataTable, element);\n",
              "        const docLink = document.createElement('div');\n",
              "        docLink.innerHTML = docLinkHtml;\n",
              "        element.appendChild(docLink);\n",
              "      }\n",
              "    </script>\n",
              "  </div>\n",
              "\n",
              "\n",
              "<div id=\"df-10307cf9-dbef-4dab-ba20-9f05e2661b9e\">\n",
              "  <button class=\"colab-df-quickchart\" onclick=\"quickchart('df-10307cf9-dbef-4dab-ba20-9f05e2661b9e')\"\n",
              "            title=\"Suggest charts\"\n",
              "            style=\"display:none;\">\n",
              "\n",
              "<svg xmlns=\"http://www.w3.org/2000/svg\" height=\"24px\"viewBox=\"0 0 24 24\"\n",
              "     width=\"24px\">\n",
              "    <g>\n",
              "        <path d=\"M19 3H5c-1.1 0-2 .9-2 2v14c0 1.1.9 2 2 2h14c1.1 0 2-.9 2-2V5c0-1.1-.9-2-2-2zM9 17H7v-7h2v7zm4 0h-2V7h2v10zm4 0h-2v-4h2v4z\"/>\n",
              "    </g>\n",
              "</svg>\n",
              "  </button>\n",
              "\n",
              "<style>\n",
              "  .colab-df-quickchart {\n",
              "      --bg-color: #E8F0FE;\n",
              "      --fill-color: #1967D2;\n",
              "      --hover-bg-color: #E2EBFA;\n",
              "      --hover-fill-color: #174EA6;\n",
              "      --disabled-fill-color: #AAA;\n",
              "      --disabled-bg-color: #DDD;\n",
              "  }\n",
              "\n",
              "  [theme=dark] .colab-df-quickchart {\n",
              "      --bg-color: #3B4455;\n",
              "      --fill-color: #D2E3FC;\n",
              "      --hover-bg-color: #434B5C;\n",
              "      --hover-fill-color: #FFFFFF;\n",
              "      --disabled-bg-color: #3B4455;\n",
              "      --disabled-fill-color: #666;\n",
              "  }\n",
              "\n",
              "  .colab-df-quickchart {\n",
              "    background-color: var(--bg-color);\n",
              "    border: none;\n",
              "    border-radius: 50%;\n",
              "    cursor: pointer;\n",
              "    display: none;\n",
              "    fill: var(--fill-color);\n",
              "    height: 32px;\n",
              "    padding: 0;\n",
              "    width: 32px;\n",
              "  }\n",
              "\n",
              "  .colab-df-quickchart:hover {\n",
              "    background-color: var(--hover-bg-color);\n",
              "    box-shadow: 0 1px 2px rgba(60, 64, 67, 0.3), 0 1px 3px 1px rgba(60, 64, 67, 0.15);\n",
              "    fill: var(--button-hover-fill-color);\n",
              "  }\n",
              "\n",
              "  .colab-df-quickchart-complete:disabled,\n",
              "  .colab-df-quickchart-complete:disabled:hover {\n",
              "    background-color: var(--disabled-bg-color);\n",
              "    fill: var(--disabled-fill-color);\n",
              "    box-shadow: none;\n",
              "  }\n",
              "\n",
              "  .colab-df-spinner {\n",
              "    border: 2px solid var(--fill-color);\n",
              "    border-color: transparent;\n",
              "    border-bottom-color: var(--fill-color);\n",
              "    animation:\n",
              "      spin 1s steps(1) infinite;\n",
              "  }\n",
              "\n",
              "  @keyframes spin {\n",
              "    0% {\n",
              "      border-color: transparent;\n",
              "      border-bottom-color: var(--fill-color);\n",
              "      border-left-color: var(--fill-color);\n",
              "    }\n",
              "    20% {\n",
              "      border-color: transparent;\n",
              "      border-left-color: var(--fill-color);\n",
              "      border-top-color: var(--fill-color);\n",
              "    }\n",
              "    30% {\n",
              "      border-color: transparent;\n",
              "      border-left-color: var(--fill-color);\n",
              "      border-top-color: var(--fill-color);\n",
              "      border-right-color: var(--fill-color);\n",
              "    }\n",
              "    40% {\n",
              "      border-color: transparent;\n",
              "      border-right-color: var(--fill-color);\n",
              "      border-top-color: var(--fill-color);\n",
              "    }\n",
              "    60% {\n",
              "      border-color: transparent;\n",
              "      border-right-color: var(--fill-color);\n",
              "    }\n",
              "    80% {\n",
              "      border-color: transparent;\n",
              "      border-right-color: var(--fill-color);\n",
              "      border-bottom-color: var(--fill-color);\n",
              "    }\n",
              "    90% {\n",
              "      border-color: transparent;\n",
              "      border-bottom-color: var(--fill-color);\n",
              "    }\n",
              "  }\n",
              "</style>\n",
              "\n",
              "  <script>\n",
              "    async function quickchart(key) {\n",
              "      const quickchartButtonEl =\n",
              "        document.querySelector('#' + key + ' button');\n",
              "      quickchartButtonEl.disabled = true;  // To prevent multiple clicks.\n",
              "      quickchartButtonEl.classList.add('colab-df-spinner');\n",
              "      try {\n",
              "        const charts = await google.colab.kernel.invokeFunction(\n",
              "            'suggestCharts', [key], {});\n",
              "      } catch (error) {\n",
              "        console.error('Error during call to suggestCharts:', error);\n",
              "      }\n",
              "      quickchartButtonEl.classList.remove('colab-df-spinner');\n",
              "      quickchartButtonEl.classList.add('colab-df-quickchart-complete');\n",
              "    }\n",
              "    (() => {\n",
              "      let quickchartButtonEl =\n",
              "        document.querySelector('#df-10307cf9-dbef-4dab-ba20-9f05e2661b9e button');\n",
              "      quickchartButtonEl.style.display =\n",
              "        google.colab.kernel.accessAllowed ? 'block' : 'none';\n",
              "    })();\n",
              "  </script>\n",
              "</div>\n",
              "\n",
              "    </div>\n",
              "  </div>\n"
            ],
            "application/vnd.google.colaboratory.intrinsic+json": {
              "type": "dataframe",
              "variable_name": "data",
              "summary": "{\n  \"name\": \"data\",\n  \"rows\": 19842,\n  \"fields\": [\n    {\n      \"column\": \"Name\",\n      \"properties\": {\n        \"dtype\": \"string\",\n        \"num_unique_values\": 19842,\n        \"samples\": [\n          \"HenrY sCHMIDT\",\n          \"AnN wrIGHT\",\n          \"CINdY dAViS\"\n        ],\n        \"semantic_type\": \"\",\n        \"description\": \"\"\n      }\n    },\n    {\n      \"column\": \"Age\",\n      \"properties\": {\n        \"dtype\": \"number\",\n        \"std\": 19,\n        \"min\": 18,\n        \"max\": 85,\n        \"num_unique_values\": 68,\n        \"samples\": [\n          29,\n          63,\n          43\n        ],\n        \"semantic_type\": \"\",\n        \"description\": \"\"\n      }\n    },\n    {\n      \"column\": \"Gender\",\n      \"properties\": {\n        \"dtype\": \"category\",\n        \"num_unique_values\": 2,\n        \"samples\": [\n          \"Female\",\n          \"Male\"\n        ],\n        \"semantic_type\": \"\",\n        \"description\": \"\"\n      }\n    },\n    {\n      \"column\": \"Blood Type\",\n      \"properties\": {\n        \"dtype\": \"category\",\n        \"num_unique_values\": 8,\n        \"samples\": [\n          \"A+\",\n          \"AB-\"\n        ],\n        \"semantic_type\": \"\",\n        \"description\": \"\"\n      }\n    },\n    {\n      \"column\": \"Medical Condition\",\n      \"properties\": {\n        \"dtype\": \"category\",\n        \"num_unique_values\": 6,\n        \"samples\": [\n          \"Cancer\",\n          \"Obesity\"\n        ],\n        \"semantic_type\": \"\",\n        \"description\": \"\"\n      }\n    },\n    {\n      \"column\": \"Date of Admission\",\n      \"properties\": {\n        \"dtype\": \"object\",\n        \"num_unique_values\": 1827,\n        \"samples\": [\n          \"12/24/2022\",\n          \"2/14/2022\"\n        ],\n        \"semantic_type\": \"\",\n        \"description\": \"\"\n      }\n    },\n    {\n      \"column\": \"Doctor\",\n      \"properties\": {\n        \"dtype\": \"string\",\n        \"num_unique_values\": 17845,\n        \"samples\": [\n          \"Susan Castillo\",\n          \"Michael Lewis\"\n        ],\n        \"semantic_type\": \"\",\n        \"description\": \"\"\n      }\n    },\n    {\n      \"column\": \"Hospital\",\n      \"properties\": {\n        \"dtype\": \"string\",\n        \"num_unique_values\": 17273,\n        \"samples\": [\n          \"Collins Small, and Crawford\",\n          \"Santos Clark and Graham,\"\n        ],\n        \"semantic_type\": \"\",\n        \"description\": \"\"\n      }\n    },\n    {\n      \"column\": \"Insurance Provider\",\n      \"properties\": {\n        \"dtype\": \"category\",\n        \"num_unique_values\": 5,\n        \"samples\": [\n          \"Medicare\",\n          \"Cigna\"\n        ],\n        \"semantic_type\": \"\",\n        \"description\": \"\"\n      }\n    },\n    {\n      \"column\": \"Billing Amount\",\n      \"properties\": {\n        \"dtype\": \"number\",\n        \"std\": 14193.712816719353,\n        \"min\": -1310.272895,\n        \"max\": 52271.66375,\n        \"num_unique_values\": 19842,\n        \"samples\": [\n          48203.2472,\n          44724.79274\n        ],\n        \"semantic_type\": \"\",\n        \"description\": \"\"\n      }\n    },\n    {\n      \"column\": \"Room Number\",\n      \"properties\": {\n        \"dtype\": \"number\",\n        \"std\": 115,\n        \"min\": 101,\n        \"max\": 500,\n        \"num_unique_values\": 400,\n        \"samples\": [\n          176,\n          146\n        ],\n        \"semantic_type\": \"\",\n        \"description\": \"\"\n      }\n    },\n    {\n      \"column\": \"Admission Type\",\n      \"properties\": {\n        \"dtype\": \"category\",\n        \"num_unique_values\": 3,\n        \"samples\": [\n          \"Urgent\",\n          \"Emergency\"\n        ],\n        \"semantic_type\": \"\",\n        \"description\": \"\"\n      }\n    },\n    {\n      \"column\": \"Discharge Date\",\n      \"properties\": {\n        \"dtype\": \"object\",\n        \"num_unique_values\": 1853,\n        \"samples\": [\n          \"10/29/2020\",\n          \"5/19/2023\"\n        ],\n        \"semantic_type\": \"\",\n        \"description\": \"\"\n      }\n    },\n    {\n      \"column\": \"Medication\",\n      \"properties\": {\n        \"dtype\": \"category\",\n        \"num_unique_values\": 5,\n        \"samples\": [\n          \"Ibuprofen\",\n          \"Lipitor\"\n        ],\n        \"semantic_type\": \"\",\n        \"description\": \"\"\n      }\n    },\n    {\n      \"column\": \"Test Results\",\n      \"properties\": {\n        \"dtype\": \"category\",\n        \"num_unique_values\": 3,\n        \"samples\": [\n          \"Normal\",\n          \"Inconclusive\"\n        ],\n        \"semantic_type\": \"\",\n        \"description\": \"\"\n      }\n    }\n  ]\n}"
            }
          },
          "metadata": {},
          "execution_count": 26
        }
      ]
    },
    {
      "cell_type": "markdown",
      "source": [
        "Kode ini membaca file CSV yang berisi data healthcare dan menampilkan 5 baris pertama untuk memberikan gambaran awal tentang data yang ada. Data ini bisa berisi berbagai kolom, misalnya umur, hasil tes, atau tagihan medis, yang dapat digunakan untuk analisis lebih lanjut.\n"
      ],
      "metadata": {
        "id": "SvCaOihw6QcG"
      }
    },
    {
      "source": [
        "X = data[['Admission Type', 'Test Results']].values # Replace 'df' with 'data'\n",
        "X[0:5]"
      ],
      "cell_type": "code",
      "metadata": {
        "colab": {
          "base_uri": "https://localhost:8080/"
        },
        "id": "I4zPmwbg6iNw",
        "outputId": "97ccd7c0-4e55-40b0-c89b-42e59b7761eb"
      },
      "execution_count": null,
      "outputs": [
        {
          "output_type": "execute_result",
          "data": {
            "text/plain": [
              "array([['Urgent', 'Normal'],\n",
              "       ['Emergency', 'Inconclusive'],\n",
              "       ['Emergency', 'Normal'],\n",
              "       ['Elective', 'Abnormal'],\n",
              "       ['Urgent', 'Abnormal']], dtype=object)"
            ]
          },
          "metadata": {},
          "execution_count": 36
        }
      ]
    },
    {
      "cell_type": "markdown",
      "source": [
        "Kode ini memilih dua kolom dari dataset healthcare ('Admission Type' dan 'Test Results'), mengonversinya menjadi array numpy, dan kemudian menampilkan 5 baris pertama dari array tersebut untuk memberikan gambaran tentang data yang dipilih"
      ],
      "metadata": {
        "id": "Pl4kSsmI65Fl"
      }
    },
    {
      "source": [
        "# Load the cleaned dataset if you haven't already\n",
        "dataset = pd.read_csv('cleaned_healthcare_dataset.csv')\n",
        "\n",
        "# Use .loc to select the 'Test Results' column and then get its values\n",
        "y = dataset.loc[:, 'Test Results'].values\n",
        "y[0:5]"
      ],
      "cell_type": "code",
      "metadata": {
        "colab": {
          "base_uri": "https://localhost:8080/"
        },
        "id": "O5j7ajumuw6x",
        "outputId": "0c09260e-0eee-44d0-a67c-78e742a661c0"
      },
      "execution_count": null,
      "outputs": [
        {
          "output_type": "execute_result",
          "data": {
            "text/plain": [
              "array(['Normal', 'Inconclusive', 'Normal', 'Abnormal', 'Abnormal'],\n",
              "      dtype=object)"
            ]
          },
          "metadata": {},
          "execution_count": 30
        }
      ]
    },
    {
      "cell_type": "markdown",
      "source": [
        "kode ini membaca dataset yang telah dibersihkan, memilih kolom 'Test Results' yang berisi hasil tes, dan menampilkan 5 nilai pertama dari kolom tersebut."
      ],
      "metadata": {
        "id": "a-YtiMeR7CoW"
      }
    },
    {
      "cell_type": "code",
      "source": [
        "from sklearn.model_selection import train_test_split\n",
        "X_train, X_test, y_train, y_test = train_test_split( X, y, test_size=0.25, random_state=0)"
      ],
      "metadata": {
        "id": "P0ETGa_wu8-A"
      },
      "execution_count": null,
      "outputs": []
    },
    {
      "cell_type": "markdown",
      "source": [
        "Kode ini membagi dataset menjadi dua bagian: 75% untuk pelatihan (training) dan 25% untuk pengujian (testing), dengan memastikan pembagian data tersebut tetap konsisten setiap kali dijalankan."
      ],
      "metadata": {
        "id": "jXFjlBv07MAr"
      }
    },
    {
      "cell_type": "code",
      "source": [
        "from sklearn.preprocessing import StandardScaler\n",
        "sc = StandardScaler()\n",
        "X_train = sc.fit_transform(X_train)\n",
        "X_test = sc.transform(X_test)"
      ],
      "metadata": {
        "id": "QT1t_8mOvBnc"
      },
      "execution_count": null,
      "outputs": []
    },
    {
      "cell_type": "markdown",
      "source": [
        "Kode ini melakukan standarisasi pada data pelatihan (X_train) dan data uji (X_test) agar setiap fitur memiliki rata-rata 0 dan deviasi standar 1. Standarisasi ini penting untuk banyak model machine learning, termasuk SVM, agar fitur dengan skala berbeda tidak mempengaruhi hasil model."
      ],
      "metadata": {
        "id": "USWVGh8C7Td7"
      }
    },
    {
      "cell_type": "code",
      "source": [
        "from sklearn.svm import SVC\n",
        "classifier = SVC(kernel='rbf', random_state=0)\n",
        "classifier.fit(X_train, y_train)\n",
        "y_pred = classifier.predict(X_test)"
      ],
      "metadata": {
        "id": "gOMhSwrOvEuV"
      },
      "execution_count": null,
      "outputs": []
    },
    {
      "cell_type": "markdown",
      "source": [
        "Kode ini melatih model SVM dengan kernel RBF menggunakan data latih dan kemudian menggunakannya untuk memprediksi kelas pada data uji. Model ini digunakan untuk klasifikasi, misalnya, untuk memprediksi hasil tes medis berdasarkan fitur lain seperti usia atau jenis perawatan."
      ],
      "metadata": {
        "id": "_GtG33qf7cjo"
      }
    },
    {
      "cell_type": "code",
      "source": [
        "import seaborn as sns\n",
        "\n",
        "sns.scatterplot(data=data, x=\"Admission Type\", y=\"Test Results\", hue=\"Test Results\", palette=\"deep\")\n"
      ],
      "metadata": {
        "colab": {
          "base_uri": "https://localhost:8080/",
          "height": 466
        },
        "id": "wd5uBl-fvHay",
        "outputId": "cb195732-f19b-4d08-938c-9beb8a56044d"
      },
      "execution_count": null,
      "outputs": [
        {
          "output_type": "execute_result",
          "data": {
            "text/plain": [
              "<Axes: xlabel='Admission Type', ylabel='Test Results'>"
            ]
          },
          "metadata": {},
          "execution_count": 42
        },
        {
          "output_type": "display_data",
          "data": {
            "text/plain": [
              "<Figure size 640x480 with 1 Axes>"
            ],
            "image/png": "[encoded data removed]"
          },
          "metadata": {}
        }
      ]
    },
    {
      "cell_type": "markdown",
      "source": [
        "Kode ini membuat scatter plot yang menggambarkan hubungan antara Admission Type (jenis masuk rumah sakit) dan Test Results (hasil tes medis). Titik pada grafik diberi warna berdasarkan kategori hasil tes medis (misalnya, positif atau negatif)."
      ],
      "metadata": {
        "id": "NxL_KZb-8J7e"
      }
    },
    {
      "cell_type": "markdown",
      "source": [
        "# Support Vector Machine Testing"
      ],
      "metadata": {
        "id": "G3Sk1bDyvfEz"
      }
    },
    {
      "cell_type": "code",
      "source": [
        "from sklearn.svm import SVC\n",
        "classifier = SVC(kernel = 'rbf', random_state = 0)\n",
        "classifier.fit(X_train, y_train)\n",
        "\n",
        "# kernel:\n",
        "# linear = 0,9\n",
        "# poly = 0,86\n",
        "# rbf = 0,93\n",
        "# sigmoid = 0,74"
      ],
      "metadata": {
        "colab": {
          "base_uri": "https://localhost:8080/",
          "height": 80
        },
        "id": "XCZ5WKwYviJa",
        "outputId": "c8b93561-3cfa-4942-dd8d-3b4df7d4d73e"
      },
      "execution_count": null,
      "outputs": [
        {
          "output_type": "execute_result",
          "data": {
            "text/plain": [
              "SVC(random_state=0)"
            ],
            "text/html": [
              "<style>#sk-container-id-1 {\n",
              "  /* Definition of color scheme common for light and dark mode */\n",
              "  --sklearn-color-text: #000;\n",
              "  --sklearn-color-text-muted: #666;\n",
              "  --sklearn-color-line: gray;\n",
              "  /* Definition of color scheme for unfitted estimators */\n",
              "  --sklearn-color-unfitted-level-0: #fff5e6;\n",
              "  --sklearn-color-unfitted-level-1: #f6e4d2;\n",
              "  --sklearn-color-unfitted-level-2: #ffe0b3;\n",
              "  --sklearn-color-unfitted-level-3: chocolate;\n",
              "  /* Definition of color scheme for fitted estimators */\n",
              "  --sklearn-color-fitted-level-0: #f0f8ff;\n",
              "  --sklearn-color-fitted-level-1: #d4ebff;\n",
              "  --sklearn-color-fitted-level-2: #b3dbfd;\n",
              "  --sklearn-color-fitted-level-3: cornflowerblue;\n",
              "\n",
              "  /* Specific color for light theme */\n",
              "  --sklearn-color-text-on-default-background: var(--sg-text-color, var(--theme-code-foreground, var(--jp-content-font-color1, black)));\n",
              "  --sklearn-color-background: var(--sg-background-color, var(--theme-background, var(--jp-layout-color0, white)));\n",
              "  --sklearn-color-border-box: var(--sg-text-color, var(--theme-code-foreground, var(--jp-content-font-color1, black)));\n",
              "  --sklearn-color-icon: #696969;\n",
              "\n",
              "  @media (prefers-color-scheme: dark) {\n",
              "    /* Redefinition of color scheme for dark theme */\n",
              "    --sklearn-color-text-on-default-background: var(--sg-text-color, var(--theme-code-foreground, var(--jp-content-font-color1, white)));\n",
              "    --sklearn-color-background: var(--sg-background-color, var(--theme-background, var(--jp-layout-color0, #111)));\n",
              "    --sklearn-color-border-box: var(--sg-text-color, var(--theme-code-foreground, var(--jp-content-font-color1, white)));\n",
              "    --sklearn-color-icon: #878787;\n",
              "  }\n",
              "}\n",
              "\n",
              "#sk-container-id-1 {\n",
              "  color: var(--sklearn-color-text);\n",
              "}\n",
              "\n",
              "#sk-container-id-1 pre {\n",
              "  padding: 0;\n",
              "}\n",
              "\n",
              "#sk-container-id-1 input.sk-hidden--visually {\n",
              "  border: 0;\n",
              "  clip: rect(1px 1px 1px 1px);\n",
              "  clip: rect(1px, 1px, 1px, 1px);\n",
              "  height: 1px;\n",
              "  margin: -1px;\n",
              "  overflow: hidden;\n",
              "  padding: 0;\n",
              "  position: absolute;\n",
              "  width: 1px;\n",
              "}\n",
              "\n",
              "#sk-container-id-1 div.sk-dashed-wrapped {\n",
              "  border: 1px dashed var(--sklearn-color-line);\n",
              "  margin: 0 0.4em 0.5em 0.4em;\n",
              "  box-sizing: border-box;\n",
              "  padding-bottom: 0.4em;\n",
              "  background-color: var(--sklearn-color-background);\n",
              "}\n",
              "\n",
              "#sk-container-id-1 div.sk-container {\n",
              "  /* jupyter's `normalize.less` sets `[hidden] { display: none; }`\n",
              "     but bootstrap.min.css set `[hidden] { display: none !important; }`\n",
              "     so we also need the `!important` here to be able to override the\n",
              "     default hidden behavior on the sphinx rendered scikit-learn.org.\n",
              "     See: https://github.com/scikit-learn/scikit-learn/issues/21755 */\n",
              "  display: inline-block !important;\n",
              "  position: relative;\n",
              "}\n",
              "\n",
              "#sk-container-id-1 div.sk-text-repr-fallback {\n",
              "  display: none;\n",
              "}\n",
              "\n",
              "div.sk-parallel-item,\n",
              "div.sk-serial,\n",
              "div.sk-item {\n",
              "  /* draw centered vertical line to link estimators */\n",
              "  background-image: linear-gradient(var(--sklearn-color-text-on-default-background), var(--sklearn-color-text-on-default-background));\n",
              "  background-size: 2px 100%;\n",
              "  background-repeat: no-repeat;\n",
              "  background-position: center center;\n",
              "}\n",
              "\n",
              "/* Parallel-specific style estimator block */\n",
              "\n",
              "#sk-container-id-1 div.sk-parallel-item::after {\n",
              "  content: \"\";\n",
              "  width: 100%;\n",
              "  border-bottom: 2px solid var(--sklearn-color-text-on-default-background);\n",
              "  flex-grow: 1;\n",
              "}\n",
              "\n",
              "#sk-container-id-1 div.sk-parallel {\n",
              "  display: flex;\n",
              "  align-items: stretch;\n",
              "  justify-content: center;\n",
              "  background-color: var(--sklearn-color-background);\n",
              "  position: relative;\n",
              "}\n",
              "\n",
              "#sk-container-id-1 div.sk-parallel-item {\n",
              "  display: flex;\n",
              "  flex-direction: column;\n",
              "}\n",
              "\n",
              "#sk-container-id-1 div.sk-parallel-item:first-child::after {\n",
              "  align-self: flex-end;\n",
              "  width: 50%;\n",
              "}\n",
              "\n",
              "#sk-container-id-1 div.sk-parallel-item:last-child::after {\n",
              "  align-self: flex-start;\n",
              "  width: 50%;\n",
              "}\n",
              "\n",
              "#sk-container-id-1 div.sk-parallel-item:only-child::after {\n",
              "  width: 0;\n",
              "}\n",
              "\n",
              "/* Serial-specific style estimator block */\n",
              "\n",
              "#sk-container-id-1 div.sk-serial {\n",
              "  display: flex;\n",
              "  flex-direction: column;\n",
              "  align-items: center;\n",
              "  background-color: var(--sklearn-color-background);\n",
              "  padding-right: 1em;\n",
              "  padding-left: 1em;\n",
              "}\n",
              "\n",
              "\n",
              "/* Toggleable style: style used for estimator/Pipeline/ColumnTransformer box that is\n",
              "clickable and can be expanded/collapsed.\n",
              "- Pipeline and ColumnTransformer use this feature and define the default style\n",
              "- Estimators will overwrite some part of the style using the `sk-estimator` class\n",
              "*/\n",
              "\n",
              "/* Pipeline and ColumnTransformer style (default) */\n",
              "\n",
              "#sk-container-id-1 div.sk-toggleable {\n",
              "  /* Default theme specific background. It is overwritten whether we have a\n",
              "  specific estimator or a Pipeline/ColumnTransformer */\n",
              "  background-color: var(--sklearn-color-background);\n",
              "}\n",
              "\n",
              "/* Toggleable label */\n",
              "#sk-container-id-1 label.sk-toggleable__label {\n",
              "  cursor: pointer;\n",
              "  display: flex;\n",
              "  width: 100%;\n",
              "  margin-bottom: 0;\n",
              "  padding: 0.5em;\n",
              "  box-sizing: border-box;\n",
              "  text-align: center;\n",
              "  align-items: start;\n",
              "  justify-content: space-between;\n",
              "  gap: 0.5em;\n",
              "}\n",
              "\n",
              "#sk-container-id-1 label.sk-toggleable__label .caption {\n",
              "  font-size: 0.6rem;\n",
              "  font-weight: lighter;\n",
              "  color: var(--sklearn-color-text-muted);\n",
              "}\n",
              "\n",
              "#sk-container-id-1 label.sk-toggleable__label-arrow:before {\n",
              "  /* Arrow on the left of the label */\n",
              "  content: \"▸\";\n",
              "  float: left;\n",
              "  margin-right: 0.25em;\n",
              "  color: var(--sklearn-color-icon);\n",
              "}\n",
              "\n",
              "#sk-container-id-1 label.sk-toggleable__label-arrow:hover:before {\n",
              "  color: var(--sklearn-color-text);\n",
              "}\n",
              "\n",
              "/* Toggleable content - dropdown */\n",
              "\n",
              "#sk-container-id-1 div.sk-toggleable__content {\n",
              "  max-height: 0;\n",
              "  max-width: 0;\n",
              "  overflow: hidden;\n",
              "  text-align: left;\n",
              "  /* unfitted */\n",
              "  background-color: var(--sklearn-color-unfitted-level-0);\n",
              "}\n",
              "\n",
              "#sk-container-id-1 div.sk-toggleable__content.fitted {\n",
              "  /* fitted */\n",
              "  background-color: var(--sklearn-color-fitted-level-0);\n",
              "}\n",
              "\n",
              "#sk-container-id-1 div.sk-toggleable__content pre {\n",
              "  margin: 0.2em;\n",
              "  border-radius: 0.25em;\n",
              "  color: var(--sklearn-color-text);\n",
              "  /* unfitted */\n",
              "  background-color: var(--sklearn-color-unfitted-level-0);\n",
              "}\n",
              "\n",
              "#sk-container-id-1 div.sk-toggleable__content.fitted pre {\n",
              "  /* unfitted */\n",
              "  background-color: var(--sklearn-color-fitted-level-0);\n",
              "}\n",
              "\n",
              "#sk-container-id-1 input.sk-toggleable__control:checked~div.sk-toggleable__content {\n",
              "  /* Expand drop-down */\n",
              "  max-height: 200px;\n",
              "  max-width: 100%;\n",
              "  overflow: auto;\n",
              "}\n",
              "\n",
              "#sk-container-id-1 input.sk-toggleable__control:checked~label.sk-toggleable__label-arrow:before {\n",
              "  content: \"▾\";\n",
              "}\n",
              "\n",
              "/* Pipeline/ColumnTransformer-specific style */\n",
              "\n",
              "#sk-container-id-1 div.sk-label input.sk-toggleable__control:checked~label.sk-toggleable__label {\n",
              "  color: var(--sklearn-color-text);\n",
              "  background-color: var(--sklearn-color-unfitted-level-2);\n",
              "}\n",
              "\n",
              "#sk-container-id-1 div.sk-label.fitted input.sk-toggleable__control:checked~label.sk-toggleable__label {\n",
              "  background-color: var(--sklearn-color-fitted-level-2);\n",
              "}\n",
              "\n",
              "/* Estimator-specific style */\n",
              "\n",
              "/* Colorize estimator box */\n",
              "#sk-container-id-1 div.sk-estimator input.sk-toggleable__control:checked~label.sk-toggleable__label {\n",
              "  /* unfitted */\n",
              "  background-color: var(--sklearn-color-unfitted-level-2);\n",
              "}\n",
              "\n",
              "#sk-container-id-1 div.sk-estimator.fitted input.sk-toggleable__control:checked~label.sk-toggleable__label {\n",
              "  /* fitted */\n",
              "  background-color: var(--sklearn-color-fitted-level-2);\n",
              "}\n",
              "\n",
              "#sk-container-id-1 div.sk-label label.sk-toggleable__label,\n",
              "#sk-container-id-1 div.sk-label label {\n",
              "  /* The background is the default theme color */\n",
              "  color: var(--sklearn-color-text-on-default-background);\n",
              "}\n",
              "\n",
              "/* On hover, darken the color of the background */\n",
              "#sk-container-id-1 div.sk-label:hover label.sk-toggleable__label {\n",
              "  color: var(--sklearn-color-text);\n",
              "  background-color: var(--sklearn-color-unfitted-level-2);\n",
              "}\n",
              "\n",
              "/* Label box, darken color on hover, fitted */\n",
              "#sk-container-id-1 div.sk-label.fitted:hover label.sk-toggleable__label.fitted {\n",
              "  color: var(--sklearn-color-text);\n",
              "  background-color: var(--sklearn-color-fitted-level-2);\n",
              "}\n",
              "\n",
              "/* Estimator label */\n",
              "\n",
              "#sk-container-id-1 div.sk-label label {\n",
              "  font-family: monospace;\n",
              "  font-weight: bold;\n",
              "  display: inline-block;\n",
              "  line-height: 1.2em;\n",
              "}\n",
              "\n",
              "#sk-container-id-1 div.sk-label-container {\n",
              "  text-align: center;\n",
              "}\n",
              "\n",
              "/* Estimator-specific */\n",
              "#sk-container-id-1 div.sk-estimator {\n",
              "  font-family: monospace;\n",
              "  border: 1px dotted var(--sklearn-color-border-box);\n",
              "  border-radius: 0.25em;\n",
              "  box-sizing: border-box;\n",
              "  margin-bottom: 0.5em;\n",
              "  /* unfitted */\n",
              "  background-color: var(--sklearn-color-unfitted-level-0);\n",
              "}\n",
              "\n",
              "#sk-container-id-1 div.sk-estimator.fitted {\n",
              "  /* fitted */\n",
              "  background-color: var(--sklearn-color-fitted-level-0);\n",
              "}\n",
              "\n",
              "/* on hover */\n",
              "#sk-container-id-1 div.sk-estimator:hover {\n",
              "  /* unfitted */\n",
              "  background-color: var(--sklearn-color-unfitted-level-2);\n",
              "}\n",
              "\n",
              "#sk-container-id-1 div.sk-estimator.fitted:hover {\n",
              "  /* fitted */\n",
              "  background-color: var(--sklearn-color-fitted-level-2);\n",
              "}\n",
              "\n",
              "/* Specification for estimator info (e.g. \"i\" and \"?\") */\n",
              "\n",
              "/* Common style for \"i\" and \"?\" */\n",
              "\n",
              ".sk-estimator-doc-link,\n",
              "a:link.sk-estimator-doc-link,\n",
              "a:visited.sk-estimator-doc-link {\n",
              "  float: right;\n",
              "  font-size: smaller;\n",
              "  line-height: 1em;\n",
              "  font-family: monospace;\n",
              "  background-color: var(--sklearn-color-background);\n",
              "  border-radius: 1em;\n",
              "  height: 1em;\n",
              "  width: 1em;\n",
              "  text-decoration: none !important;\n",
              "  margin-left: 0.5em;\n",
              "  text-align: center;\n",
              "  /* unfitted */\n",
              "  border: var(--sklearn-color-unfitted-level-1) 1pt solid;\n",
              "  color: var(--sklearn-color-unfitted-level-1);\n",
              "}\n",
              "\n",
              ".sk-estimator-doc-link.fitted,\n",
              "a:link.sk-estimator-doc-link.fitted,\n",
              "a:visited.sk-estimator-doc-link.fitted {\n",
              "  /* fitted */\n",
              "  border: var(--sklearn-color-fitted-level-1) 1pt solid;\n",
              "  color: var(--sklearn-color-fitted-level-1);\n",
              "}\n",
              "\n",
              "/* On hover */\n",
              "div.sk-estimator:hover .sk-estimator-doc-link:hover,\n",
              ".sk-estimator-doc-link:hover,\n",
              "div.sk-label-container:hover .sk-estimator-doc-link:hover,\n",
              ".sk-estimator-doc-link:hover {\n",
              "  /* unfitted */\n",
              "  background-color: var(--sklearn-color-unfitted-level-3);\n",
              "  color: var(--sklearn-color-background);\n",
              "  text-decoration: none;\n",
              "}\n",
              "\n",
              "div.sk-estimator.fitted:hover .sk-estimator-doc-link.fitted:hover,\n",
              ".sk-estimator-doc-link.fitted:hover,\n",
              "div.sk-label-container:hover .sk-estimator-doc-link.fitted:hover,\n",
              ".sk-estimator-doc-link.fitted:hover {\n",
              "  /* fitted */\n",
              "  background-color: var(--sklearn-color-fitted-level-3);\n",
              "  color: var(--sklearn-color-background);\n",
              "  text-decoration: none;\n",
              "}\n",
              "\n",
              "/* Span, style for the box shown on hovering the info icon */\n",
              ".sk-estimator-doc-link span {\n",
              "  display: none;\n",
              "  z-index: 9999;\n",
              "  position: relative;\n",
              "  font-weight: normal;\n",
              "  right: .2ex;\n",
              "  padding: .5ex;\n",
              "  margin: .5ex;\n",
              "  width: min-content;\n",
              "  min-width: 20ex;\n",
              "  max-width: 50ex;\n",
              "  color: var(--sklearn-color-text);\n",
              "  box-shadow: 2pt 2pt 4pt #999;\n",
              "  /* unfitted */\n",
              "  background: var(--sklearn-color-unfitted-level-0);\n",
              "  border: .5pt solid var(--sklearn-color-unfitted-level-3);\n",
              "}\n",
              "\n",
              ".sk-estimator-doc-link.fitted span {\n",
              "  /* fitted */\n",
              "  background: var(--sklearn-color-fitted-level-0);\n",
              "  border: var(--sklearn-color-fitted-level-3);\n",
              "}\n",
              "\n",
              ".sk-estimator-doc-link:hover span {\n",
              "  display: block;\n",
              "}\n",
              "\n",
              "/* \"?\"-specific style due to the `<a>` HTML tag */\n",
              "\n",
              "#sk-container-id-1 a.estimator_doc_link {\n",
              "  float: right;\n",
              "  font-size: 1rem;\n",
              "  line-height: 1em;\n",
              "  font-family: monospace;\n",
              "  background-color: var(--sklearn-color-background);\n",
              "  border-radius: 1rem;\n",
              "  height: 1rem;\n",
              "  width: 1rem;\n",
              "  text-decoration: none;\n",
              "  /* unfitted */\n",
              "  color: var(--sklearn-color-unfitted-level-1);\n",
              "  border: var(--sklearn-color-unfitted-level-1) 1pt solid;\n",
              "}\n",
              "\n",
              "#sk-container-id-1 a.estimator_doc_link.fitted {\n",
              "  /* fitted */\n",
              "  border: var(--sklearn-color-fitted-level-1) 1pt solid;\n",
              "  color: var(--sklearn-color-fitted-level-1);\n",
              "}\n",
              "\n",
              "/* On hover */\n",
              "#sk-container-id-1 a.estimator_doc_link:hover {\n",
              "  /* unfitted */\n",
              "  background-color: var(--sklearn-color-unfitted-level-3);\n",
              "  color: var(--sklearn-color-background);\n",
              "  text-decoration: none;\n",
              "}\n",
              "\n",
              "#sk-container-id-1 a.estimator_doc_link.fitted:hover {\n",
              "  /* fitted */\n",
              "  background-color: var(--sklearn-color-fitted-level-3);\n",
              "}\n",
              "</style><div id=\"sk-container-id-1\" class=\"sk-top-container\"><div class=\"sk-text-repr-fallback\"><pre>SVC(random_state=0)</pre><b>In a Jupyter environment, please rerun this cell to show the HTML representation or trust the notebook. <br />On GitHub, the HTML representation is unable to render, please try loading this page with nbviewer.org.</b></div><div class=\"sk-container\" hidden><div class=\"sk-item\"><div class=\"sk-estimator fitted sk-toggleable\"><input class=\"sk-toggleable__control sk-hidden--visually\" id=\"sk-estimator-id-1\" type=\"checkbox\" checked><label for=\"sk-estimator-id-1\" class=\"sk-toggleable__label fitted sk-toggleable__label-arrow\"><div><div>SVC</div></div><div><a class=\"sk-estimator-doc-link fitted\" rel=\"noreferrer\" target=\"_blank\" href=\"https://scikit-learn.org/1.6/modules/generated/sklearn.svm.SVC.html\">?<span>Documentation for SVC</span></a><span class=\"sk-estimator-doc-link fitted\">i<span>Fitted</span></span></div></label><div class=\"sk-toggleable__content fitted\"><pre>SVC(random_state=0)</pre></div> </div></div></div></div>"
            ]
          },
          "metadata": {},
          "execution_count": 36
        }
      ]
    },
    {
      "cell_type": "markdown",
      "source": [
        "Kode ini melatih model SVM dengan kernel RBF menggunakan data pelatihan untuk klasifikasi. Setelah melatih model, nilai akurasi yang berbeda untuk berbagai jenis kernel menunjukkan bahwa kernel RBF memberikan performa terbaik (0,93). Perbandingan akurasi kernel lain seperti linear (0,9), polynomial (0,86), dan sigmoid (0,74) menunjukkan bahwa RBF lebih baik dalam memodelkan data yang tidak dapat dipisahkan secara linier."
      ],
      "metadata": {
        "id": "ZGDB-GV88TP2"
      }
    },
    {
      "cell_type": "code",
      "source": [
        "y_pred = classifier.predict(X_test)"
      ],
      "metadata": {
        "id": "LdwxVPmsvn48"
      },
      "execution_count": null,
      "outputs": []
    },
    {
      "cell_type": "markdown",
      "source": [
        "Kode ini memanfaatkan model SVM yang telah dilatih untuk memprediksi hasil kelas (label) berdasarkan fitur X_test. Hasil prediksi disimpan dalam variabel y_pred, yang berisi kelas yang diprediksi oleh model untuk setiap data dalam X_test."
      ],
      "metadata": {
        "id": "K_MShqNx8aQn"
      }
    },
    {
      "cell_type": "markdown",
      "source": [
        "# Confusion Matriks"
      ],
      "metadata": {
        "id": "aQ9OjHmMvs3Z"
      }
    },
    {
      "cell_type": "code",
      "source": [
        "from sklearn.metrics import confusion_matrix, accuracy_score\n",
        "cm = confusion_matrix(y_test, y_pred)\n",
        "print(cm)\n",
        "\n",
        "accuracy_score(y_test, y_pred)"
      ],
      "metadata": {
        "colab": {
          "base_uri": "https://localhost:8080/"
        },
        "id": "Rrt8teFGvulf",
        "outputId": "0b10d681-863d-462b-9b7d-42b81b1ee56f"
      },
      "execution_count": null,
      "outputs": [
        {
          "output_type": "stream",
          "name": "stdout",
          "text": [
            "[[1693    0    0]\n",
            " [   0 1640    0]\n",
            " [   0    0 1621]]\n"
          ]
        },
        {
          "output_type": "execute_result",
          "data": {
            "text/plain": [
              "1.0"
            ]
          },
          "metadata": {},
          "execution_count": 38
        }
      ]
    },
    {
      "cell_type": "markdown",
      "source": [
        "Matriks kebingunguan memberikan gambaran tentang kinerja model dengan menunjukkan jumlah prediksi yang benar dan salah untuk setiap kelas.\n",
        "\n",
        "Akurasi menghitung seberapa sering model memberikan prediksi yang benar berdasarkan data uji, yaitu persentase dari total prediksi yang benar."
      ],
      "metadata": {
        "id": "3zlYLkQH8jcH"
      }
    },
    {
      "source": [
        "import pandas as pd\n",
        "from sklearn.model_selection import train_test_split\n",
        "from sklearn.svm import SVC\n",
        "from sklearn.preprocessing import StandardScaler, OneHotEncoder\n",
        "from sklearn.compose import ColumnTransformer\n",
        "\n",
        "# Asumsikan dataset ada dalam DataFrame `data` dengan kolom 'Admission Type', 'Test ResultsResults', dan 'Test ResultsResults'\n",
        "X = data[['Admission Type', 'Test Results']]\n",
        "y = data['Test Results']\n",
        "\n",
        "# Split data into training and testing sets\n",
        "X_train, X_test, y_train, y_test = train_test_split(X, y, test_size=0.2, random_state=42)\n",
        "\n",
        "# Create a ColumnTransformer to handle categorical and numerical features\n",
        "# OneHotEncoder will transform 'Admission Type' into numerical representation\n",
        "# StandardScaler will scale the numerical 'Test Results' feature\n",
        "\n",
        "preprocessor = ColumnTransformer(\n",
        "    transformers=[\n",
        "        # Scale numerical features if any exist in the specified columns\n",
        "        ('num', StandardScaler(), ['Test Results'] if pd.api.types.is_numeric_dtype(data['Test Results']) else []),\n",
        "        # One-hot encode categorical features\n",
        "        ('cat', OneHotEncoder(sparse_output=False, handle_unknown='ignore'), ['Admission Type']),\n",
        "    ])\n",
        "\n",
        "# Apply the preprocessing to the training and testing data\n",
        "X_train = preprocessor.fit_transform(X_train)\n",
        "X_test = preprocessor.transform(X_test)\n",
        "\n",
        "# Train the SVM model with RBF kernel\n",
        "svm_rbf = SVC(kernel='rbf', random_state=42)\n",
        "svm_rbf.fit(X_train, y_train)\n",
        "\n",
        "# Predict using the SVM model\n",
        "y_pred = svm_rbf.predict(X_test)"
      ],
      "cell_type": "code",
      "metadata": {
        "id": "d40DyRnSxLMY"
      },
      "execution_count": null,
      "outputs": []
    },
    {
      "cell_type": "markdown",
      "source": [
        "kode ini melakukan beberapa langkah utama:\n",
        "\n",
        "Mengolah data dengan one-hot encoding untuk\n",
        "fitur kategorikal dan standardisasi untuk fitur numerik.\n",
        "\n",
        "Melatih model SVM dengan kernel RBF pada data latih yang sudah diproses.\n",
        "\n",
        "Menggunakan model untuk memprediksi kelas target pada data uji."
      ],
      "metadata": {
        "id": "5uXqisDa8v3q"
      }
    },
    {
      "cell_type": "markdown",
      "source": [
        "# Visualization"
      ],
      "metadata": {
        "id": "YpktMR2-xeAS"
      }
    },
    {
      "cell_type": "code",
      "source": [
        "import numpy as np\n",
        "import pandas as pd\n",
        "import matplotlib.pyplot as plt\n",
        "from mpl_toolkits.mplot3d import Axes3D\n",
        "from sklearn.model_selection import train_test_split\n",
        "from sklearn.svm import SVC\n",
        "from sklearn.preprocessing import StandardScaler\n",
        "\n",
        "# Load dataset\n",
        "file_path = '/content/healthcare_dataset.csv'\n",
        "data = pd.read_csv(file_path)\n",
        "\n",
        "# Select features and target (using healthcare dataset columns)\n",
        "X = data[['Age', 'Billing Amount']]\n",
        "y = LabelEncoder().fit_transform(data['Test Results'])\n",
        "\n",
        "# Split data into training and testing sets\n",
        "X_train, X_test, y_train, y_test = train_test_split(X, y, test_size=0.2, random_state=42)\n",
        "\n",
        "# Standardize features\n",
        "scaler = StandardScaler()\n",
        "X_train = scaler.fit_transform(X_train)\n",
        "X_test = scaler.transform(X_test)\n",
        "\n",
        "# Train the SVM model with RBF kernel\n",
        "svm_rbf = SVC(kernel='rbf', random_state=42)\n",
        "svm_rbf.fit(X_train, y_train)\n",
        "\n",
        "# Predict using the SVM model\n",
        "y_pred = svm_rbf.predict(X_test)\n",
        "\n",
        "# Create a new DataFrame with predictions\n",
        "new_table = pd.DataFrame(X_test, columns=['Age', 'Billing Amount'])\n",
        "new_table['Test_Results_Predicted'] = y_pred\n",
        "\n",
        "# Plotting\n",
        "fig = plt.figure(figsize=(10, 7))\n",
        "ax = fig.add_subplot(111, projection='3d')\n",
        "\n",
        "# Separate the predictions into two groups for different colors\n",
        "group0 = new_table[new_table['Test_Results_Predicted'] == 0]\n",
        "group1 = new_table[new_table['Test_Results_Predicted'] == 1]\n",
        "\n",
        "# Scatter plot\n",
        "ax.scatter(group0['Age'], group0['Billing Amount'], zs=0, zdir='z', label='Normal', color='blue', marker='o')\n",
        "ax.scatter(group1['Age'], group1['Billing Amount'], zs=1, zdir='z', label='Abnormal', color='orange', marker='^')\n",
        "\n",
        "# Set labels\n",
        "ax.set_xlabel('Age')\n",
        "ax.set_ylabel('Billing Amount')\n",
        "ax.set_zlabel('Test Results Prediction')\n",
        "\n",
        "# Add legend and show plot\n",
        "ax.legend()\n",
        "plt.show()\n"
      ],
      "metadata": {
        "colab": {
          "base_uri": "https://localhost:8080/",
          "height": 576
        },
        "id": "N5R0u0Phxb92",
        "outputId": "b8f08e3b-9c27-4b07-d307-833a54d6a731"
      },
      "execution_count": null,
      "outputs": [
        {
          "output_type": "display_data",
          "data": {
            "text/plain": [
              "<Figure size 1000x700 with 1 Axes>"
            ],
            "image/png": "[encoded data removed]"
          },
          "metadata": {}
        }
      ]
    },
    {
      "cell_type": "markdown",
      "source": [
        "tujuan dari kode ini adalah untuk melatih model SVM pada dataset kesehatan dan memvisualisasikan prediksi model dalam bentuk grafik 3D."
      ],
      "metadata": {
        "id": "A1BfzAhV9K9n"
      }
    },
    {
      "cell_type": "markdown",
      "source": [
        "# Evaluation"
      ],
      "metadata": {
        "id": "FEzJ-mwm2GOi"
      }
    },
    {
      "source": [
        "from sklearn.metrics import confusion_matrix\n",
        "import numpy as np\n",
        "import pandas as pd\n",
        "import matplotlib.pyplot as plt\n",
        "from mpl_toolkits.mplot3d import Axes3D\n",
        "from sklearn.model_selection import train_test_split\n",
        "from sklearn.svm import SVC\n",
        "from sklearn.preprocessing import StandardScaler, LabelEncoder # Import LabelEncoder\n",
        "\n",
        "# Load dataset\n",
        "file_path = '/content/healthcare_dataset.csv'\n",
        "data = pd.read_csv(file_path)\n",
        "\n",
        "# Select features and target (using healthcare dataset columns)\n",
        "X = data[['Age', 'Billing Amount']]\n",
        "y = LabelEncoder().fit_transform(data['Test Results']) # Use LabelEncoder\n",
        "\n",
        "# Split data into training and testing sets\n",
        "X_train, X_test, y_train, y_test = train_test_split(X, y, test_size=0.2, random_state=42)\n",
        "\n",
        "# Standardize features\n",
        "scaler = StandardScaler()\n",
        "X_train = scaler.fit_transform(X_train)\n",
        "X_test = scaler.transform(X_test)\n",
        "\n",
        "# Train the SVM model with RBF kernel\n",
        "svm_rbf = SVC(kernel='rbf', random_state=42)\n",
        "svm_rbf.fit(X_train, y_train)\n",
        "\n",
        "# Predict using the SVM model\n",
        "y_pred = svm_rbf.predict(X_test) # Define y_pred before calculating confusion matrix\n",
        "\n",
        "# Now calculate the confusion matrix\n",
        "cm = confusion_matrix(y_test, y_pred)\n",
        "cm"
      ],
      "cell_type": "code",
      "metadata": {
        "colab": {
          "base_uri": "https://localhost:8080/"
        },
        "id": "wAeysYHI3Lez",
        "outputId": "195c0816-6c07-4a0b-fed6-23f3eaf285b2"
      },
      "execution_count": null,
      "outputs": [
        {
          "output_type": "execute_result",
          "data": {
            "text/plain": [
              "array([[641, 323, 353],\n",
              "       [649, 308, 356],\n",
              "       [676, 276, 387]])"
            ]
          },
          "metadata": {},
          "execution_count": 13
        }
      ]
    },
    {
      "cell_type": "markdown",
      "source": [
        "Impor Library:\n",
        "\n",
        "confusion_matrix dari sklearn.metrics digunakan untuk menghitung matriks kebingunguan, yang menunjukkan bagaimana model melakukan prediksi terhadap data uji.\n",
        "numpy dan pandas digunakan untuk manipulasi data dan array.\n",
        "matplotlib.pyplot dan mpl_toolkits.mplot3d digunakan untuk visualisasi data.\n",
        "train_test_split digunakan untuk membagi dataset menjadi data latih dan data uji.\n",
        "SVC digunakan untuk membuat model Support Vector Machine.\n",
        "StandardScaler digunakan untuk melakukan standardisasi pada fitur numerik.\n",
        "LabelEncoder digunakan untuk mengonversi label kategorikal (misalnya, 'Test Results') menjadi bentuk numerik.\n",
        "Memuat dan Menyiapkan Data:\n",
        "\n",
        "Dataset dibaca dari file CSV /content/healthcare_dataset.csv dan dimuat ke dalam DataFrame data.\n",
        "Fitur 'Age' dan 'Billing Amount' dipilih sebagai input X, sementara kolom 'Test Results' digunakan sebagai target y.\n",
        "LabelEncoder digunakan untuk mengubah label kategorikal pada 'Test Results' menjadi nilai numerik (misalnya, 0 untuk 'Normal' dan 1 untuk 'Abnormal').\n",
        "Pembagian Data:\n",
        "\n",
        "Dataset dibagi menjadi data latih dan data uji menggunakan train_test_split dengan 80% untuk data latih dan 20% untuk data uji.\n",
        "Standardisasi Fitur:\n",
        "\n",
        "Fitur 'Age' dan 'Billing Amount' distandarisasi menggunakan StandardScaler agar memiliki rata-rata 0 dan deviasi standar 1. Hal ini penting agar model SVM tidak terpengaruh oleh skala fitur yang berbeda.\n",
        "Pelatihan Model SVM:\n",
        "\n",
        "Model SVM dilatih menggunakan data latih yang telah distandarisasi (X_train dan y_train) dengan kernel RBF. SVM ini akan mencoba menemukan pemisah terbaik yang memisahkan data berdasarkan kelas.\n",
        "Prediksi dengan Model:\n",
        "\n",
        "Setelah model dilatih, digunakan untuk memprediksi hasil pada data uji (X_test), yang hasil prediksinya disimpan dalam variabel y_pred.\n",
        "Perhitungan Confusion Matrix:\n",
        "\n",
        "confusion_matrix digunakan untuk menghitung matriks kebingunguan antara label asli (y_test) dan hasil prediksi (y_pred).\n",
        "Matriks kebingunguan adalah matriks yang menunjukkan jumlah prediksi yang benar dan salah dalam bentuk:\n",
        "True Positive (TP): Prediksi positif yang benar.\n",
        "True Negative (TN): Prediksi negatif yang benar.\n",
        "False Positive (FP): Prediksi positif yang salah.\n",
        "False Negative (FN): Prediksi negatif yang salah.\n",
        "Output Confusion Matrix:\n",
        "\n",
        "cm akan menghasilkan matriks kebingunguan yang akan menampilkan hasil evaluasi prediksi model."
      ],
      "metadata": {
        "id": "XQlhkqn_9YD0"
      }
    },
    {
      "cell_type": "code",
      "source": [
        "import seaborn as sns\n",
        "import matplotlib.pyplot as plt\n",
        "from sklearn.metrics import confusion_matrix\n",
        "\n",
        "# Lakukan prediksi pada data uji\n",
        "y_pred = svm_rbf.predict(X_test)\n",
        "\n",
        "# Hitung confusion matrix\n",
        "cm = confusion_matrix(y_test, y_pred)\n",
        "\n",
        "# Visualisasi confusion matrix dengan heatmap\n",
        "f, ax = plt.subplots(figsize=(8, 5))\n",
        "sns.heatmap(cm, annot=True, fmt=\".0f\", ax=ax, cmap='Blues', xticklabels=['Negative', 'Positive'], yticklabels=['Negative', 'Positive'])\n",
        "plt.xlabel(\"Prediksi\")\n",
        "plt.ylabel(\"Aktual\")\n",
        "plt.title(\"Confusion Matrix - Healthcare Dataset\")\n",
        "plt.show()\n"
      ],
      "metadata": {
        "colab": {
          "base_uri": "https://localhost:8080/",
          "height": 487
        },
        "id": "k6IIN5cD3Wja",
        "outputId": "69109261-2600-4b7f-bf13-c253477c6182"
      },
      "execution_count": null,
      "outputs": [
        {
          "output_type": "display_data",
          "data": {
            "text/plain": [
              "<Figure size 800x500 with 2 Axes>"
            ],
            "image/png": "[encoded data removed]"
          },
          "metadata": {}
        }
      ]
    },
    {
      "cell_type": "markdown",
      "source": [
        "Heatmap ini akan menunjukkan matriks kebingunguan yang memperlihatkan seberapa baik model SVM yang digunakan dalam memprediksi hasil, dengan menampilkan nilai untuk True Positive, True Negative, False Positive, dan False Negative. Warna pada heatmap membantu untuk melihat perbandingan antara kategori yang benar dan salah, dengan warna yang lebih gelap menunjukkan nilai yang lebih tinggi."
      ],
      "metadata": {
        "id": "ohokQyvG9kqN"
      }
    },
    {
      "source": [
        "from sklearn.metrics import accuracy_score  # Import the accuracy_score function\n",
        "\n",
        "accuracy_score(y_test, y_pred)"
      ],
      "cell_type": "code",
      "metadata": {
        "colab": {
          "base_uri": "https://localhost:8080/"
        },
        "id": "B1Mu4Bwu30kT",
        "outputId": "af8a1d5a-32a9-4f5d-beda-72ab4c918fa1"
      },
      "execution_count": null,
      "outputs": [
        {
          "output_type": "execute_result",
          "data": {
            "text/plain": [
              "0.3366087175610985"
            ]
          },
          "metadata": {},
          "execution_count": 16
        }
      ]
    },
    {
      "cell_type": "markdown",
      "source": [
        "Akurasi ini memberikan gambaran umum tentang performa model, tetapi tidak selalu mencerminkan kinerja model dalam kasus ketidakseimbangan kelas, di mana metrik lain seperti precision, recall, atau F1-score bisa lebih informatif.\n",
        "\n",
        "\n",
        "\n",
        "\n",
        "\n",
        "\n"
      ],
      "metadata": {
        "id": "_LBsqeHs9tN0"
      }
    },
    {
      "source": [
        "# Hitung recall\n",
        "from sklearn.metrics import confusion_matrix, recall_score\n",
        "\n",
        "# Assuming 'y_test' and 'y_pred' are defined\n",
        "cm = confusion_matrix(y_test, y_pred)\n",
        "\n",
        "# Instead of manual calculation, use recall_score for multi-class problems\n",
        "recall = recall_score(y_test, y_pred, average='weighted') # 'weighted' for multiclass\n",
        "\n",
        "# Tampilkan recall\n",
        "print(f'Recall: {recall}')"
      ],
      "cell_type": "code",
      "metadata": {
        "colab": {
          "base_uri": "https://localhost:8080/"
        },
        "id": "IwX4cgIZ4cB1",
        "outputId": "4287af8c-9e49-4737-c152-5fa31fd336bb"
      },
      "execution_count": null,
      "outputs": [
        {
          "output_type": "stream",
          "name": "stdout",
          "text": [
            "Recall: 0.3366087175610985\n"
          ]
        }
      ]
    },
    {
      "cell_type": "markdown",
      "source": [
        "Mengimpor Fungsi:\n",
        "\n",
        "from sklearn.metrics import confusion_matrix, recall_score: Mengimpor confusion_matrix untuk menghitung matriks kebingunguan, dan recall_score untuk menghitung nilai recall.\n",
        "Menghitung Confusion Matrix:\n",
        "\n",
        "cm = confusion_matrix(y_test, y_pred): Fungsi confusion_matrix menghitung matriks kebingunguan dengan membandingkan nilai aktual (y_test) dan hasil prediksi (y_pred). Hasil ini akan menunjukkan True Positives (TP), True Negatives (TN), False Positives (FP), dan False Negatives (FN).\n",
        "Menghitung Recall:\n",
        "\n",
        "recall = recall_score(y_test, y_pred, average='weighted'):\n",
        "recall_score digunakan untuk menghitung recall, yang mengukur kemampuan model dalam mengenali kelas positif (misalnya, dalam kasus diagnosis penyakit, kelas positif adalah pasien yang terdiagnosis).\n",
        "average='weighted' digunakan untuk menghitung rata-rata recall secara berbobot untuk masalah dengan beberapa kelas (multi-class). Ini memberikan bobot untuk setiap kelas sesuai dengan jumlah contoh yang ada di dalamnya. Dalam hal ini, recall dihitung untuk setiap kelas, dan hasilnya dihitung berdasarkan jumlah contoh di setiap kelas.\n",
        "Output:\n",
        "\n",
        "print(f'Recall: {recall}'): Mencetak hasil nilai recall. Nilai recall adalah angka antara 0 dan 1:\n",
        "1 berarti semua kelas positif berhasil dikenali dengan benar.\n",
        "\n",
        "0 berarti model gagal untuk mengenali kelas positif sama sekali."
      ],
      "metadata": {
        "id": "pVOzn8Si94it"
      }
    },
    {
      "cell_type": "code",
      "source": [
        "from sklearn.metrics import confusion_matrix\n",
        "\n",
        "# Hitung confusion matrix\n",
        "cm = confusion_matrix(y_test, y_pred)\n",
        "\n",
        "# Ambil nilai TP dan FP dari confusion matrix\n",
        "TP = cm[1, 1]  # True Positive: prediksi positif yang benar\n",
        "FP = cm[0, 1]  # False Positive: prediksi positif padahal seharusnya negatif\n",
        "\n",
        "# Hitung precision\n",
        "precision = TP / (TP + FP)\n",
        "\n",
        "# Tampilkan precision\n",
        "print(f'Precision: {precision}')\n"
      ],
      "metadata": {
        "colab": {
          "base_uri": "https://localhost:8080/"
        },
        "id": "32Cmi0sk4hDh",
        "outputId": "718bc975-b0f0-4906-c556-ded1a1b3ca0e"
      },
      "execution_count": null,
      "outputs": [
        {
          "output_type": "stream",
          "name": "stdout",
          "text": [
            "Precision: 0.48811410459587956\n"
          ]
        }
      ]
    },
    {
      "cell_type": "markdown",
      "source": [
        "penjelasan singkat:\n",
        "Confusion Matrix: Menghitung jumlah TP (True Positive) dan FP (False Positive) berdasarkan prediksi dan data aktual.\n",
        "Precision: Mengukur proporsi prediksi positif yang benar, dihitung dengan rumus:\n",
        "Precision\n",
        "=\n",
        "𝑇\n",
        "𝑃\n",
        "𝑇\n",
        "𝑃\n",
        "+\n",
        "𝐹\n",
        "𝑃\n",
        "Precision=\n",
        "TP+FP\n",
        "TP\n",
        "​\n",
        "\n",
        "Output: Menampilkan nilai precision, yang menunjukkan akurasi model dalam memprediksi kelas positif.\n",
        "Precision tinggi berarti model lebih akurat dalam memprediksi kelas positif.p"
      ],
      "metadata": {
        "id": "z28gcd79-I8n"
      }
    },
    {
      "cell_type": "code",
      "source": [
        "f1 = 2*(recall*precis)/(recall+precis)\n",
        "f1"
      ],
      "metadata": {
        "colab": {
          "base_uri": "https://localhost:8080/"
        },
        "id": "qA4HfIOt4vui",
        "outputId": "bb3fbc94-d553-4501-a164-80fc9c5a7c2c"
      },
      "execution_count": null,
      "outputs": [
        {
          "output_type": "execute_result",
          "data": {
            "text/plain": [
              "0.4812326985291665"
            ]
          },
          "metadata": {},
          "execution_count": 25
        }
      ]
    },
    {
      "cell_type": "markdown",
      "source": [
        "Penjelasan rumus F1-Score:\n",
        "F1-Score\n",
        "=\n",
        "2\n",
        "×\n",
        "Precision\n",
        "×\n",
        "Recall\n",
        "Precision\n",
        "+\n",
        "Recall\n",
        "F1-Score=2×\n",
        "Precision+Recall\n",
        "Precision×Recall\n",
        "​\n",
        "\n",
        "Precision: Mengukur proporsi prediksi positif yang benar.\n",
        "Recall: Mengukur proporsi data positif yang berhasil diprediksi dengan benar.\n",
        "F1-Score: Harmonik dari precision dan recall, memberikan ukuran tunggal yang lebih seimbang untuk performa model.\n",
        "Fungsi F1-Score:\n",
        "F1-Score memberikan hasil yang lebih stabil ketika model memiliki trade-off antara precision dan recall.\n",
        "Nilai F1-Score berkisar antara 0 hingga 1:\n",
        "1 berarti model sempurna (baik precision maupun recall tinggi).\n",
        "0 berarti model sangat buruk dalam memprediksi kelas positif.\n",
        "Jika precision dan recall memiliki nilai yang seimbang, F1-Score akan mendekati nilai tertinggi (1)."
      ],
      "metadata": {
        "id": "MYkeb642-VSL"
      }
    },
    {
      "source": [
        "from sklearn.svm import SVC\n",
        "\n",
        "classifier = SVC(kernel='rbf', random_state=0)\n",
        "classifier.fit(X_train, y_train)\n",
        "\n",
        "y_pred_train = classifier.predict(X_train)\n",
        "y_pred_train"
      ],
      "cell_type": "code",
      "metadata": {
        "colab": {
          "base_uri": "https://localhost:8080/"
        },
        "id": "a6qP3jpH5SI8",
        "outputId": "947702e5-7f95-4954-faa9-7fad646ba793"
      },
      "execution_count": null,
      "outputs": [
        {
          "output_type": "execute_result",
          "data": {
            "text/plain": [
              "array([0, 0, 2, ..., 2, 2, 2])"
            ]
          },
          "metadata": {},
          "execution_count": 28
        }
      ]
    },
    {
      "cell_type": "markdown",
      "source": [
        "SVC(kernel='rbf'): Membuat objek SVM dengan kernel RBF untuk klasifikasi.\n",
        "\n",
        "classifier.fit(X_train, y_train): Melatih model menggunakan data latih (X_train dan y_train).\n",
        "\n",
        "y_pred_train = classifier.predict(X_train): Menggunakan model yang telah dilatih untuk memprediksi label pada data latih (X_train).\n",
        "\n",
        "y_pred_train: Menyimpan hasil prediksi pada data latih."
      ],
      "metadata": {
        "id": "hnZFzGtA-hkk"
      }
    },
    {
      "cell_type": "code",
      "source": [
        "cm_train = confusion_matrix(y_train, y_pred_train)\n",
        "cm_train"
      ],
      "metadata": {
        "colab": {
          "base_uri": "https://localhost:8080/"
        },
        "id": "Gd4Mc4hB5tND",
        "outputId": "a11c7020-5d8c-4189-d4ab-a4e6e10a5f19"
      },
      "execution_count": null,
      "outputs": [
        {
          "output_type": "execute_result",
          "data": {
            "text/plain": [
              "array([[2731, 1205, 1417],\n",
              "       [2574, 1296, 1402],\n",
              "       [2523, 1176, 1549]])"
            ]
          },
          "metadata": {},
          "execution_count": 29
        }
      ]
    },
    {
      "cell_type": "markdown",
      "source": [
        "onfusion_matrix(y_train, y_pred_train): Menghasilkan confusion matrix untuk mengevaluasi performa model pada data latih.\n",
        "\n",
        "cm_train: Menyimpan dan menampilkan confusion matrix yang berisi jumlah True Positive (TP), False Positive (FP), True Negative (TN), dan False Negative (FN)."
      ],
      "metadata": {
        "id": "ZwSxzNRI-ksi"
      }
    },
    {
      "cell_type": "code",
      "source": [
        "import seaborn as sns\n",
        "f, ax = plt.subplots(figsize=(8,5))\n",
        "sns.heatmap(cm_train, annot=True, fmt=\".0f\", ax=ax)\n",
        "plt.xlabel(\"y prediksi\")\n",
        "plt.ylabel(\"y aktual\")\n",
        "plt.show()"
      ],
      "metadata": {
        "colab": {
          "base_uri": "https://localhost:8080/",
          "height": 465
        },
        "id": "QFrLsa0o5u1x",
        "outputId": "18c1e5bd-b816-43d6-aa34-2319763b103f"
      },
      "execution_count": null,
      "outputs": [
        {
          "output_type": "display_data",
          "data": {
            "text/plain": [
              "<Figure size 800x500 with 2 Axes>"
            ],
            "image/png": "[encoded data removed]"
          },
          "metadata": {}
        }
      ]
    },
    {
      "cell_type": "markdown",
      "source": [
        "sns.heatmap(cm_train, annot=True, fmt=\".0f\", ax=ax): Membuat heatmap untuk confusion matrix cm_train, dengan menampilkan nilai di setiap sel.\n",
        "plt.xlabel(\"y prediksi\") dan plt.ylabel(\"y aktual\"): Menambahkan label untuk sumbu X (prediksi) dan Y (aktual).\n",
        "plt.show(): Menampilkan visualisasi heatmap."
      ],
      "metadata": {
        "id": "LR_QIjlR-1Gr"
      }
    },
    {
      "cell_type": "code",
      "source": [
        "accuracy_score(y_train, y_pred_train)"
      ],
      "metadata": {
        "colab": {
          "base_uri": "https://localhost:8080/"
        },
        "id": "zONDswfj503J",
        "outputId": "1a809d72-ca7c-41a0-ce30-89f4040f4c54"
      },
      "execution_count": null,
      "outputs": [
        {
          "output_type": "execute_result",
          "data": {
            "text/plain": [
              "0.3512883512883513"
            ]
          },
          "metadata": {},
          "execution_count": 31
        }
      ]
    },
    {
      "cell_type": "markdown",
      "source": [
        "accuracy_score(y_train, y_pred_train): Menghitung persentase prediksi yang benar dari total prediksi pada data latih.\n",
        "\n",
        "y_train: Label aktual data latih.\n",
        "y_pred_train: Prediksi yang dihasilkan oleh model.\n",
        "\n",
        "Menghasilkan nilai akurasi antara 0 hingga 1, di mana nilai 1 berarti model sepenuhnya akurat pada data latih."
      ],
      "metadata": {
        "id": "R7kR5Trv-_cp"
      }
    },
    {
      "cell_type": "markdown",
      "source": [
        "# Prediksi Data Testing"
      ],
      "metadata": {
        "id": "gavHc7XK52ES"
      }
    },
    {
      "cell_type": "code",
      "source": [
        "y_pred_test = classifier.predict(X_test)\n",
        "y_pred_test"
      ],
      "metadata": {
        "colab": {
          "base_uri": "https://localhost:8080/"
        },
        "id": "69k91THG55Ht",
        "outputId": "f5dc4eca-051b-4ffc-ab5f-379edccd492e"
      },
      "execution_count": null,
      "outputs": [
        {
          "output_type": "execute_result",
          "data": {
            "text/plain": [
              "array([0, 0, 0, ..., 0, 1, 1])"
            ]
          },
          "metadata": {},
          "execution_count": 32
        }
      ]
    },
    {
      "cell_type": "markdown",
      "source": [
        "classifier.predict(X_test): Menggunakan model SVM yang telah dilatih untuk memprediksi label pada data uji (X_test).\n",
        "\n",
        "y_pred_test: Menyimpan hasil prediksi pada data uji."
      ],
      "metadata": {
        "id": "fbmheseX_IVl"
      }
    },
    {
      "cell_type": "code",
      "source": [
        "cm_test = confusion_matrix(y_test, y_pred_test)\n",
        "cm_test"
      ],
      "metadata": {
        "colab": {
          "base_uri": "https://localhost:8080/"
        },
        "id": "m4HwpzBa58pO",
        "outputId": "56077444-87c8-448d-dcc6-a2ff0258d95a"
      },
      "execution_count": null,
      "outputs": [
        {
          "output_type": "execute_result",
          "data": {
            "text/plain": [
              "array([[641, 323, 353],\n",
              "       [649, 308, 356],\n",
              "       [676, 276, 387]])"
            ]
          },
          "metadata": {},
          "execution_count": 33
        }
      ]
    },
    {
      "cell_type": "markdown",
      "source": [
        "confusion_matrix(y_test, y_pred_test): Membandingkan label aktual pada data uji (y_test) dengan prediksi model (y_pred_test) untuk menghasilkan confusion matrix.\n",
        "\n",
        "cm_test: Menyimpan confusion matrix yang menunjukkan jumlah True Positive (TP), False Positive (FP), True Negative (TN), dan False Negative (FN) pada data uji.\n",
        "\n",
        "\n",
        "\n",
        "\n",
        "\n"
      ],
      "metadata": {
        "id": "V_hKYOVy_OxS"
      }
    },
    {
      "cell_type": "code",
      "source": [
        "import seaborn as sns\n",
        "f, ax = plt.subplots(figsize=(8,5))\n",
        "sns.heatmap(cm_test, annot=True, fmt=\".0f\", ax=ax)\n",
        "plt.xlabel(\"y prediksi\")\n",
        "plt.ylabel(\"y aktual\")\n",
        "plt.show()"
      ],
      "metadata": {
        "colab": {
          "base_uri": "https://localhost:8080/",
          "height": 465
        },
        "id": "Zgz4MDJI5-3N",
        "outputId": "4102da98-905b-41b6-b349-0d2b0ff69efd"
      },
      "execution_count": null,
      "outputs": [
        {
          "output_type": "display_data",
          "data": {
            "text/plain": [
              "<Figure size 800x500 with 2 Axes>"
            ],
            "image/png": "[encoded data removed]"
          },
          "metadata": {}
        }
      ]
    },
    {
      "cell_type": "markdown",
      "source": [
        "sns.heatmap(cm_test, annot=True, fmt=\".0f\", ax=ax): Membuat heatmap untuk confusion matrix cm_test, dengan nilai setiap sel ditampilkan.\n",
        "plt.xlabel(\"y prediksi\") dan plt.ylabel(\"y aktual\"): Menambahkan label untuk sumbu X (prediksi) dan Y (aktual).\n",
        "plt.show(): Menampilkan heatmap untuk evaluasi model pada data uji."
      ],
      "metadata": {
        "id": "FJOS9YBv_Xnp"
      }
    }
  ]
}